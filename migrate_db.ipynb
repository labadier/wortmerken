{
 "cells": [
  {
   "cell_type": "code",
   "execution_count": 1,
   "metadata": {},
   "outputs": [
    {
     "name": "stdout",
     "output_type": "stream",
     "text": [
      "[('users',), ('sqlite_sequence',), ('german_items',), ('translations',)]\n",
      "[(0, 'id', 'INTEGER', 0, None, 1), (1, 'word', 'TEXT', 1, None, 0), (2, 'user_id', 'TEXT', 1, None, 0), (3, 'translation', 'TEXT', 1, None, 0), (4, 'times_guessed', 'INTEGER', 1, '0', 0)]\n",
      "[(0, 'id', 'TEXT', 0, None, 1), (1, 'word', 'TEXT', 1, None, 0), (2, 'user_id', 'TEXT', 1, None, 0), (3, 'times_guessed', 'INTEGER', 1, '0', 0)]\n"
     ]
    }
   ],
   "source": [
    "# %%\n",
    "import os, sqlite3\n",
    "\n",
    "old_db_filename = 'wortmerken.db'\n",
    "new_db_filename = 'wortmerken_new.db'\n",
    "\n",
    "conn = sqlite3.connect(old_db_filename)\n",
    "cursor = conn.cursor()\n",
    "\n",
    "conn1 = sqlite3.connect(new_db_filename)\n",
    "cursor1 = conn1.cursor()\n",
    "\n",
    "cursor.execute(\"SELECT name FROM sqlite_master WHERE type='table';\")\n",
    "tables = cursor.fetchall()\n",
    "print(tables)\n",
    "\n",
    "#list columns names in users table\n",
    "cursor.execute(\"PRAGMA table_info(german_items)\")\n",
    "columns = cursor.fetchall()\n",
    "print(columns)\n",
    "\n",
    "cursor1.execute(\"PRAGMA table_info(german_items)\")\n",
    "columns1 = cursor1.fetchall()\n",
    "print(columns1)\n",
    "\n",
    "#list columns names in words table\n"
   ]
  },
  {
   "cell_type": "code",
   "execution_count": 11,
   "metadata": {},
   "outputs": [
    {
     "name": "stdout",
     "output_type": "stream",
     "text": [
      "[(1, '643386579', 'labadier'), (2, '1075517121', 'mjason98'), (3, '7134602257', 'None')]\n"
     ]
    }
   ],
   "source": [
    "#get all users from old db and add them to new db\n",
    "cursor.execute(\"SELECT * FROM users\")\n",
    "users = cursor.fetchall()\n",
    "print(users)\n",
    "\n",
    "for user in users:\n",
    "    cursor1.execute(\"INSERT INTO users(tlgm_uid, username) VALUES (?, ?)\", (user[1], user[2]))\n",
    "conn1.commit()\n",
    "    "
   ]
  },
  {
   "cell_type": "code",
   "execution_count": 12,
   "metadata": {},
   "outputs": [
    {
     "name": "stdout",
     "output_type": "stream",
     "text": [
      "[(1, '643386579', 'labadier', -1), (2, '1075517121', 'mjason98', -1), (3, '7134602257', 'None', -1)]\n"
     ]
    }
   ],
   "source": [
    "cursor1.execute(\"SELECT * FROM users\")\n",
    "users = cursor1.fetchall()\n",
    "print(users)"
   ]
  },
  {
   "cell_type": "code",
   "execution_count": 13,
   "metadata": {},
   "outputs": [
    {
     "name": "stdout",
     "output_type": "stream",
     "text": [
      "[(0, 'id', 'TEXT', 0, None, 1), (1, 'word', 'TEXT', 1, None, 0), (2, 'user_id', 'TEXT', 1, None, 0), (3, 'times_guessed', 'INTEGER', 1, '0', 0)]\n"
     ]
    }
   ],
   "source": [
    "#list all columns names in table german_items\n",
    "cursor1.execute(\"PRAGMA table_info(german_items)\")\n",
    "columns1 = cursor1.fetchall()\n",
    "print(columns1)"
   ]
  },
  {
   "cell_type": "code",
   "execution_count": 14,
   "metadata": {},
   "outputs": [
    {
     "name": "stdout",
     "output_type": "stream",
     "text": [
      "[(1, 'verschieben', '643386579', 'aplazado', 10), (2, 'vielleicht', '643386579', 'quizás', 9), (3, 'bereit', '643386579', 'listo', 10), (4, 'heißen', '643386579', 'llamar', 8), (5, 'Hauptsache', '643386579', 'lo principal', 7), (6, 'sache', '643386579', 'cosa', 9), (7, 'der Platz', '643386579', 'sitio', 9), (8, 'Kopf', '643386579', 'cabeza', 1), (9, 'das Auge', '643386579', 'ojo', 2), (10, 'der Schmerz', '643386579', 'dolor', 2), (11, 'Deshalb', '643386579', 'por tanto', 2), (12, 'Verwandte', '643386579', 'pariente', 3), (13, 'wenig', '643386579', 'poco', 5), (14, 'aufmachen', '643386579', 'abrir', 3), (15, 'zumachen', '643386579', 'cerrar', 2), (16, 'einschalten', '643386579', 'encender', 3), (17, 'ausschalten', '643386579', 'apagar', 2), (18, 'verdienen', '643386579', 'ganar', 2), (19, 'schlafen', '643386579', 'dormir', 2), (20, 'hässlich', '643386579', 'feo', 1), (21, 'schlecht', '643386579', 'malo', 0), (22, 'der Neffe', '643386579', 'sobrino', 2), (23, 'die Nichte', '643386579', 'sobrina', 2), (24, 'liegt', '643386579', 'está sobre', 1), (25, 'zwischen', '643386579', 'entre', 1), (26, 'der Onkel', '643386579', 'tío', 2), (27, 'die Tante', '643386579', 'tía', 1), (28, 'Der Onkel', '1075517121', 'tio', 1), (29, 'Die Tante', '1075517121', 'tia', 2), (30, 'Der Neffe', '1075517121', 'sobrino', 0), (31, 'Die Nichte', '1075517121', 'sobrina', 4), (32, 'Das Auge', '1075517121', 'ojo', 0), (33, 'der Schmerz', '1075517121', 'dolor', 0), (34, 'Deshalb', '1075517121', 'por tanto', 0), (35, 'Verwandte', '1075517121', 'pariente', 0), (36, 'wenig', '1075517121', 'poco', 0), (37, 'aufmachen', '1075517121', 'abrir', 1), (38, 'zumachen', '1075517121', 'cerrar', 0), (39, 'einschalten', '1075517121', 'encender', 1), (40, 'ausschalten', '1075517121', 'apagar', 0), (41, 'verdienen', '1075517121', 'ganar', 0), (42, 'schlafen', '1075517121', 'dormir', 2), (43, 'hässlich', '1075517121', 'feo', 2), (44, 'schlecht', '1075517121', 'malo', 1), (45, 'fühlen', '643386579', 'feel', 3), (46, 'Fühlen', '1075517121', 'feel', 1), (47, 'Sauer', '1075517121', 'agrio', 2), (48, 'Das Licht', '1075517121', 'luz', 1), (49, 'Die Lichter', '1075517121', 'luces', 1), (50, 'das Licht', '643386579', 'luz', 2), (51, 'über', '643386579', 'about', 1), (52, 'die Leute', '643386579', 'gente', 4), (53, 'das Heft', '643386579', 'libreta', 3), (54, 'der Boden', '643386579', 'floor', 3), (55, 'schnell', '643386579', 'fast', 4), (56, 'der Schüssel', '643386579', 'key', 0), (57, 'bedeuten', '643386579', 'means', 1), (58, 'der Bleistift', '643386579', 'pencil', 0), (59, 'der Radiergummi', '643386579', 'goma', 0), (60, 'brauchen', '643386579', 'need', 1), (61, 'buchstabieren', '643386579', 'spelling', 2), (62, 'wohnung', '1075517121', 'flat', 0), (63, 'Wohnzimmer', '1075517121', 'sala', 0), (64, 'Schlafzimmer', '1075517121', 'cuarto', 0), (65, 'Mutter', '7134602257', 'Mother', 0), (66, 'überall', '643386579', 'everywhere', 0)]\n"
     ]
    }
   ],
   "source": [
    "#get all users from old db and add them to new db\n",
    "\n",
    "import uuid \n",
    "\n",
    "# id TEXT PRIMARY KEY,\n",
    "# word TEXT NOT NULL,\n",
    "# user_id TEXT NOT NULL,\n",
    "# times_guessed INTEGER NOT NULL DEFAULT 0\n",
    "\n",
    "# id TEXT PRIMARY KEY,\n",
    "# source_word_id INTEGER NOT NULL,\n",
    "# translation TEXT NOT NULL\n",
    "\n",
    "cursor.execute(\"SELECT * FROM german_items\")\n",
    "german_items = cursor.fetchall()\n",
    "print(german_items)\n",
    "\n",
    "for item in german_items:\n",
    "    word_id = str(uuid.uuid4())\n",
    "    cursor1.execute(\"INSERT INTO german_items(id, word, user_id, times_guessed \\\n",
    "                    ) VALUES (?, ?, ?, ?)\", (word_id, item[1], item[2], 0))\n",
    "    trans_id = str(uuid.uuid4())\n",
    "    cursor1.execute(\"INSERT INTO translations(id, source_word_id, translation) VALUES (?, ?, ?)\",\n",
    "                    (trans_id, word_id, item[3]))\n"
   ]
  },
  {
   "cell_type": "code",
   "execution_count": 7,
   "metadata": {},
   "outputs": [
    {
     "data": {
      "text/plain": [
       "(1, 'verschieben', '643386579', 'aplazado', 10)"
      ]
     },
     "execution_count": 7,
     "metadata": {},
     "output_type": "execute_result"
    }
   ],
   "source": [
    "german_items[0]"
   ]
  },
  {
   "cell_type": "code",
   "execution_count": 3,
   "metadata": {},
   "outputs": [
    {
     "name": "stdout",
     "output_type": "stream",
     "text": [
      "[('eb4363d6-d201-49d3-ad2e-a7c0a9fa1145', '5876f0f1-6ae1-4a64-bad7-1d13c84ffc78', 'aplazado'), ('cc44064c-2502-4a4c-8942-c30e4a4b3c7f', '2cf5f521-5036-4dc6-b3c0-c1c3187781b4', 'quizás'), ('2029b4cd-a7c6-4ab5-b3f6-bda4813e1b4a', 'f42bd2a0-ef79-4117-b565-92b84eea5c7c', 'listo'), ('6e2077ba-6a72-4beb-b213-72942da7fdda', 'fe56cf2e-96b0-4663-ac00-00be36207da0', 'llamar'), ('0f9d37af-f4af-41d9-a358-d7d201f7563e', 'd96b15f0-a54c-478f-841e-f34955d54d0b', 'lo principal'), ('05792aab-277f-4d98-a9f6-82c9ba037102', '4dbe0421-1b81-4009-a3b2-8cfbe0bf9d20', 'cosa'), ('a38e1885-c5ad-4638-bfd4-ea3ce2f803ee', '8b784856-7247-4fe9-9b0e-e4a58d777883', 'sitio'), ('8d16a6a8-da2c-4289-98e6-8e6447a73b27', '67c717b7-3f0d-44d5-a5e0-b89b2aa0c07e', 'cabeza'), ('7acadc59-0c4d-418f-98c2-0817d7d5f153', '0071b5e7-68d3-427b-a005-c7ff59a0b6f0', 'ojo'), ('5ccc0f4f-8821-4f5a-90e5-51e8ebd4a660', 'ff6dec5b-8f7d-4aa4-bdf1-0d7eb653e400', 'dolor'), ('ee2d24aa-5d01-464b-b861-1b1006033aa1', '9588be61-7d91-4981-b93e-1be20e47e1d9', 'por tanto'), ('4cd8c16d-79c9-4583-94dd-b82720236206', 'efbc0375-f043-445f-acb4-754672cdda23', 'pariente'), ('fb000fb4-8847-4c16-8924-7e3687f9c9e9', '5724c89d-9db9-422e-816f-8aa59d7818f0', 'poco'), ('e40e2561-8b71-4ead-9864-6cb2737de9b8', '751ce5ae-7265-4141-80b4-2a9d9315afec', 'abrir'), ('5c006c03-c048-4388-b65e-f64a043bbcef', 'ae541be3-00f8-44ac-9911-3959ebf83750', 'cerrar'), ('1348dd82-362c-47c9-8e3a-e48b72d8909a', '9258c824-5784-4bb6-bb3f-475bf51c24a6', 'encender'), ('a6841ef3-1f44-4461-8105-461189f2ad39', '0e46c53d-7acd-46a0-b827-83e04842fe31', 'apagar'), ('f0a572e7-93bc-4dfd-857b-99dd0a88929a', 'ba78c853-91cb-408a-b186-17959345d720', 'ganar'), ('95f5d769-48c7-43f1-af41-9ae4d492908c', '503a753e-0f5f-4609-b1be-df7176df14f3', 'dormir'), ('a24080e6-82e1-4b08-ab0d-45ba927343ea', '69c47438-aac2-403f-b341-5a83024533b1', 'feo'), ('852b8e83-706f-4d6f-ae77-85a53c957238', '0dc5ac59-63dd-4659-b22b-012c128f9613', 'malo'), ('48a45a5d-14a8-4284-b5bb-287b3de94f40', '6a940c1c-cf29-49e8-8747-941cac0aa460', 'sobrino'), ('0b12fdb5-b81e-4bcb-92d2-70717175177b', '6c74ab0a-d035-4417-899d-ff986ec324a1', 'sobrina'), ('ed307fec-2d64-4860-b196-9c24302459ce', 'bb294644-619f-467c-b720-b6f5b6076430', 'está sobre'), ('d994bf63-94cc-43b1-bc08-6eb09289b580', '42d29146-53da-4107-8eee-49621858e475', 'entre'), ('b128af0d-7c74-4785-8d62-503c0b72cf45', 'f869ae94-97aa-4153-9d80-be6dc63e1fdd', 'tío'), ('7e08213b-2c0a-4842-942a-d563ed2404c0', '1942d93e-8f57-4ef0-ad3d-8612cc618056', 'tía'), ('74d4d478-5e99-4e8f-9ba9-f216e096f811', '9bf3590b-02e1-4734-867e-404fa47c94ac', 'tio'), ('3dd70f96-8e25-4424-a113-60744e30fb1e', '9c5b18ec-4073-445f-a011-903cd4a176ee', 'tia'), ('799a691c-69ea-4481-a4bb-834afa6ceaa5', '93d34795-6e69-49a2-ac6f-aea553c40123', 'sobrino'), ('4d8a18b4-ef29-4ad7-99e7-6579eb2dde24', '7175998f-ab0c-41f1-bad7-90c99038c5c8', 'sobrina'), ('47708c3f-f8c8-4fb8-b2dc-a8090784da87', 'ce3ff935-2e29-4778-8ef9-03514aa5fc81', 'ojo'), ('51dfe629-4062-4350-a010-bb9782cc7ff1', '7dfd0c03-77ac-42e2-8d97-221b6762c003', 'dolor'), ('8d426e9c-c01d-4fea-a9d4-60bda439677d', '62a22a3a-2ce3-4d31-a889-9d4eeb342cf9', 'por tanto'), ('e3b29a03-cb81-4bba-857c-c9e275b14f55', '82da7ea1-2ad9-479d-94ef-67264b577a58', 'pariente'), ('f4819f97-e0d1-453b-9244-62e9856fd83b', '5e4530d3-e3fc-4a7e-bc12-e14abcb8d788', 'poco'), ('3a9ce9d6-d7b2-4308-ae85-3269fba614b1', '0e6bd6c9-4e94-4832-9ea1-020efe246143', 'abrir'), ('17b3056c-587e-4f4a-9381-0aa6e3aa2ae8', '34da81eb-3a51-45b1-9b9d-eb9b352207f5', 'cerrar'), ('36d7bc89-f4b2-4306-b962-b5e0a0a703be', 'd321a696-7bca-429a-bc42-7006510eb797', 'encender'), ('d9d2ebf6-680c-4e7c-b184-9ce89acbb380', '02adc486-5375-44c8-ad96-f70b3764975a', 'apagar'), ('1a9e5428-8dbb-4f73-b375-06c6a3435009', '735f123a-efd3-435d-8cff-300d5daee1a8', 'ganar'), ('958b29c4-7911-4f47-bfb2-98aad34e98b0', '89b1b8cb-a596-43d9-8c1e-fac300c76c94', 'dormir'), ('b71b2af7-9cbc-47ae-bc47-8515a28c07db', 'a4cba9c2-af53-4f1a-ab4e-ff66178c9894', 'feo'), ('7d007fd1-3c27-4161-acb0-5ccaae65ab5f', 'c103b00c-d394-4824-892d-d8391152c74a', 'malo'), ('b515df84-87ee-444f-812c-50608f646941', 'cfb5154c-f5ef-4f82-91ed-4574600b3535', 'feel'), ('28ebb580-78e0-40ad-ba1c-efa40ce3d714', 'ab5e225a-1f59-4642-940a-de97083f2ec7', 'feel'), ('41c035d9-48dc-4c18-b0d1-fe15c17f49f8', '6707be24-3793-4d62-94f1-a83d49d0b84b', 'agrio'), ('f48a274c-3874-4c07-86af-a52877bf5416', '7422c9f6-0d95-47ca-92a8-624acc7bb539', 'luz'), ('63c9f37c-66bd-434e-86cd-de3c125145b8', 'be9e4319-455c-4d10-877a-e39926fda081', 'luces'), ('fe5f72a7-264f-4c46-b2ee-323577fc6167', '7a8472a1-5ba2-437d-83fb-8d0e518e0ea6', 'luz'), ('031f226f-05e9-4e39-b058-33b13ac7ae29', '34e3bdde-7a2e-4cd3-910d-9452c049298e', 'about'), ('394e674b-b635-4161-9845-0592f189061b', 'fbd59eb7-1a15-43ce-a41c-079614e5b102', 'gente'), ('fbca9768-ab23-4bd3-b683-a80f498c1554', '205e31b2-e083-41a3-9cc0-06adcc6bbded', 'libreta'), ('423fef57-b43a-44df-ad4f-b596259430ce', 'ca35d000-7c2e-4c77-af72-0d8181e0c4a2', 'floor'), ('6e5d81ca-99c6-44ee-854e-ac7c76866231', 'd6b3d22a-a29c-4f72-b5d4-a1117d2d3db7', 'fast'), ('86732057-47d6-4631-afcb-977d4f4526ca', '95f89673-d72c-4a9d-a631-ac0e0ccce06c', 'key'), ('68e617ad-306d-41ae-a0b7-7a889ff136f7', '7be092ec-50a9-4e26-a05c-9c969a00ea4c', 'means'), ('cdff61a6-629e-488d-bfee-e132fa3986c2', '6af524c1-f17e-441f-bd6c-e56fa801b38c', 'pencil'), ('3477fe62-0c34-4c0b-af07-3dd883beb8e1', 'c05669d8-f43c-4fa8-b234-5492f347856e', 'goma'), ('9dfbaf8f-80ff-4b72-aeda-f99200a8843b', '1280db2e-2669-4d5a-a07c-00719bf3494d', 'need'), ('8494b0a8-64df-439c-bc18-a0c38d823cd9', 'c5beb0a9-1ef6-462f-bc77-ea1cf86c75ba', 'spelling'), ('a52f841d-7144-4885-b78a-b214cee3060b', '68cca065-e8e1-441e-8bb1-f6af609fb9dd', 'flat'), ('627f7712-f5a2-4d04-9ccd-fb97b8932bdf', 'fc5bc631-c116-4949-b337-fb48da3b1c57', 'sala'), ('3127a68a-4680-448d-882f-e6db81f14ea1', 'b4d5a306-dc2d-47c8-8208-8bd39409e319', 'cuarto'), ('f12bef93-d97a-45da-8512-6cce74481e19', 'd022fa88-9693-4b31-9891-29a2004aa14c', 'Mother'), ('5ec19253-3424-43a9-9c9c-e757f70c1a9c', 'dc24ce77-8d0f-44e3-8f7b-31972196861e', 'everywhere')]\n"
     ]
    }
   ],
   "source": [
    "cursor1.execute(\"SELECT * FROM translations\")\n",
    "german_items = cursor1.fetchall()\n",
    "print(german_items)"
   ]
  },
  {
   "cell_type": "code",
   "execution_count": 16,
   "metadata": {},
   "outputs": [],
   "source": [
    "conn1.commit()\n",
    "conn1.close()\n",
    "\n",
    "conn.close()\n"
   ]
  }
 ],
 "metadata": {
  "kernelspec": {
   "display_name": "env_torch",
   "language": "python",
   "name": "python3"
  },
  "language_info": {
   "codemirror_mode": {
    "name": "ipython",
    "version": 3
   },
   "file_extension": ".py",
   "mimetype": "text/x-python",
   "name": "python",
   "nbconvert_exporter": "python",
   "pygments_lexer": "ipython3",
   "version": "3.10.12"
  }
 },
 "nbformat": 4,
 "nbformat_minor": 2
}
