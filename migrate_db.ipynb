{
 "cells": [
  {
   "cell_type": "code",
   "execution_count": 30,
   "metadata": {},
   "outputs": [
    {
     "name": "stdout",
     "output_type": "stream",
     "text": [
      "[('users',), ('sqlite_sequence',), ('german_items',), ('translations',)]\n",
      "[(0, 'id', 'INTEGER', 0, None, 1), (1, 'word', 'TEXT', 1, None, 0), (2, 'user_id', 'TEXT', 1, None, 0), (3, 'translation', 'TEXT', 1, None, 0), (4, 'times_guessed', 'INTEGER', 1, '0', 0)]\n",
      "[(0, 'id', 'TEXT', 0, None, 1), (1, 'word', 'TEXT', 1, None, 0), (2, 'user_id', 'TEXT', 1, None, 0), (3, 'times_guessed', 'INTEGER', 1, '0', 0)]\n"
     ]
    }
   ],
   "source": [
    "# %%\n",
    "import os, sqlite3\n",
    "\n",
    "old_db_filename = 'wortmerken.db'\n",
    "new_db_filename = 'wortmerken_new.db'\n",
    "\n",
    "conn = sqlite3.connect(old_db_filename)\n",
    "cursor = conn.cursor()\n",
    "\n",
    "conn1 = sqlite3.connect(new_db_filename)\n",
    "cursor1 = conn1.cursor()\n",
    "\n",
    "cursor.execute(\"SELECT name FROM sqlite_master WHERE type='table';\")\n",
    "tables = cursor.fetchall()\n",
    "print(tables)\n",
    "\n",
    "#list columns names in users table\n",
    "cursor.execute(\"PRAGMA table_info(german_items)\")\n",
    "columns = cursor.fetchall()\n",
    "print(columns)\n",
    "\n",
    "cursor1.execute(\"PRAGMA table_info(german_items)\")\n",
    "columns1 = cursor1.fetchall()\n",
    "print(columns1)\n",
    "\n",
    "#list columns names in words table\n"
   ]
  },
  {
   "cell_type": "code",
   "execution_count": 20,
   "metadata": {},
   "outputs": [
    {
     "name": "stdout",
     "output_type": "stream",
     "text": [
      "[(1, '643386579', 'labadier'), (2, '1075517121', 'mjason98'), (3, '7134602257', 'None')]\n"
     ]
    }
   ],
   "source": [
    "#get all users from old db and add them to new db\n",
    "cursor.execute(\"SELECT * FROM users\")\n",
    "users = cursor.fetchall()\n",
    "print(users)\n",
    "\n",
    "for user in users:\n",
    "    cursor1.execute(\"INSERT INTO users(tlgm_uid, username) VALUES (?, ?)\", (user[1], user[2]))\n",
    "conn1.commit()\n",
    "    "
   ]
  },
  {
   "cell_type": "code",
   "execution_count": 21,
   "metadata": {},
   "outputs": [
    {
     "name": "stdout",
     "output_type": "stream",
     "text": [
      "[(1, '643386579', 'labadier', -1), (2, '1075517121', 'mjason98', -1), (3, '7134602257', 'None', -1)]\n"
     ]
    }
   ],
   "source": [
    "cursor1.execute(\"SELECT * FROM users\")\n",
    "users = cursor1.fetchall()\n",
    "print(users)"
   ]
  },
  {
   "cell_type": "code",
   "execution_count": 31,
   "metadata": {},
   "outputs": [
    {
     "name": "stdout",
     "output_type": "stream",
     "text": [
      "[(0, 'id', 'TEXT', 0, None, 1), (1, 'word', 'TEXT', 1, None, 0), (2, 'user_id', 'TEXT', 1, None, 0), (3, 'times_guessed', 'INTEGER', 1, '0', 0)]\n"
     ]
    }
   ],
   "source": [
    "#list all columns names in table german_items\n",
    "cursor1.execute(\"PRAGMA table_info(german_items)\")\n",
    "columns1 = cursor1.fetchall()\n",
    "print(columns1)"
   ]
  },
  {
   "cell_type": "code",
   "execution_count": 34,
   "metadata": {},
   "outputs": [
    {
     "name": "stdout",
     "output_type": "stream",
     "text": [
      "[(1, 'verschieben', '643386579', 'aplazado', 10), (2, 'vielleicht', '643386579', 'quizás', 9), (3, 'bereit', '643386579', 'listo', 10), (4, 'heißen', '643386579', 'llamar', 8), (5, 'Hauptsache', '643386579', 'lo principal', 7), (6, 'sache', '643386579', 'cosa', 9), (7, 'der Platz', '643386579', 'sitio', 9), (8, 'Kopf', '643386579', 'cabeza', 1), (9, 'das Auge', '643386579', 'ojo', 2), (10, 'der Schmerz', '643386579', 'dolor', 2), (11, 'Deshalb', '643386579', 'por tanto', 2), (12, 'Verwandte', '643386579', 'pariente', 3), (13, 'wenig', '643386579', 'poco', 5), (14, 'aufmachen', '643386579', 'abrir', 3), (15, 'zumachen', '643386579', 'cerrar', 2), (16, 'einschalten', '643386579', 'encender', 3), (17, 'ausschalten', '643386579', 'apagar', 2), (18, 'verdienen', '643386579', 'ganar', 2), (19, 'schlafen', '643386579', 'dormir', 2), (20, 'hässlich', '643386579', 'feo', 1), (21, 'schlecht', '643386579', 'malo', 0), (22, 'der Neffe', '643386579', 'sobrino', 2), (23, 'die Nichte', '643386579', 'sobrina', 2), (24, 'liegt', '643386579', 'está sobre', 1), (25, 'zwischen', '643386579', 'entre', 1), (26, 'der Onkel', '643386579', 'tío', 2), (27, 'die Tante', '643386579', 'tía', 1), (28, 'Der Onkel', '1075517121', 'tio', 1), (29, 'Die Tante', '1075517121', 'tia', 2), (30, 'Der Neffe', '1075517121', 'sobrino', 0), (31, 'Die Nichte', '1075517121', 'sobrina', 3), (32, 'Das Auge', '1075517121', 'ojo', 0), (33, 'der Schmerz', '1075517121', 'dolor', 0), (34, 'Deshalb', '1075517121', 'por tanto', 0), (35, 'Verwandte', '1075517121', 'pariente', 0), (36, 'wenig', '1075517121', 'poco', 0), (37, 'aufmachen', '1075517121', 'abrir', 1), (38, 'zumachen', '1075517121', 'cerrar', 0), (39, 'einschalten', '1075517121', 'encender', 1), (40, 'ausschalten', '1075517121', 'apagar', 0), (41, 'verdienen', '1075517121', 'ganar', 0), (42, 'schlafen', '1075517121', 'dormir', 2), (43, 'hässlich', '1075517121', 'feo', 2), (44, 'schlecht', '1075517121', 'malo', 1), (45, 'fühlen', '643386579', 'feel', 3), (46, 'Fühlen', '1075517121', 'feel', 1), (47, 'Sauer', '1075517121', 'agrio', 2), (48, 'Das Licht', '1075517121', 'luz', 1), (49, 'Die Lichter', '1075517121', 'luces', 0), (50, 'das Licht', '643386579', 'luz', 2), (51, 'über', '643386579', 'about', 1), (52, 'die Leute', '643386579', 'gente', 4), (53, 'das Heft', '643386579', 'libreta', 3), (54, 'der Boden', '643386579', 'floor', 3), (55, 'schnell', '643386579', 'fast', 4), (56, 'der Schüssel', '643386579', 'key', 0), (57, 'bedeuten', '643386579', 'means', 1), (58, 'der Bleistift', '643386579', 'pencil', 0), (59, 'der Radiergummi', '643386579', 'goma', 0), (60, 'brauchen', '643386579', 'need', 1), (61, 'buchstabieren', '643386579', 'spelling', 2), (62, 'wohnung', '1075517121', 'flat', 0), (63, 'Wohnzimmer', '1075517121', 'sala', 0), (64, 'Schlafzimmer', '1075517121', 'cuarto', 0), (65, 'Mutter', '7134602257', 'Mother', 0), (66, 'überall', '643386579', 'everywhere', 0)]\n"
     ]
    }
   ],
   "source": [
    "#get all users from old db and add them to new db\n",
    "\n",
    "import uuid \n",
    "\n",
    "# id TEXT PRIMARY KEY,\n",
    "# word TEXT NOT NULL,\n",
    "# user_id TEXT NOT NULL,\n",
    "# times_guessed INTEGER NOT NULL DEFAULT 0\n",
    "\n",
    "# id TEXT PRIMARY KEY,\n",
    "# source_word_id INTEGER NOT NULL,\n",
    "# translation TEXT NOT NULL\n",
    "\n",
    "cursor.execute(\"SELECT * FROM german_items\")\n",
    "german_items = cursor.fetchall()\n",
    "print(german_items)\n",
    "\n",
    "for item in german_items:\n",
    "    word_id = str(uuid.uuid4())\n",
    "    cursor1.execute(\"INSERT INTO german_items(id, word, user_id, times_guessed \\\n",
    "                    ) VALUES (?, ?, ?, ?)\", (word_id, item[2], item[1], 0))\n",
    "    trans_id = str(uuid.uuid4())\n",
    "    cursor1.execute(\"INSERT INTO translations(id, source_word_id, translation) VALUES (?, ?, ?)\",\n",
    "                    (trans_id, word_id, item[3]))\n",
    "\n"
   ]
  },
  {
   "cell_type": "code",
   "execution_count": 39,
   "metadata": {},
   "outputs": [
    {
     "name": "stdout",
     "output_type": "stream",
     "text": [
      "[('73b85e75-cd89-4337-a56e-d0ffa9319b1f', '643386579', 'verschieben', 0), ('6833efaf-9a95-433c-9725-ce2a4b9a81b3', '643386579', 'vielleicht', 0), ('923013a3-6fe0-42a6-8feb-8eb322df72e5', '643386579', 'bereit', 0), ('2b78e681-beb2-43b2-a851-f1c8b6a948fa', '643386579', 'heißen', 0), ('3bc176a0-144e-4b21-814b-978b6321525b', '643386579', 'Hauptsache', 0), ('23cada82-7180-4bea-9c90-7704582424ab', '643386579', 'sache', 0), ('2ac566e3-3894-4924-9fe0-19ee3421cf4a', '643386579', 'der Platz', 0), ('04f23bf2-3054-46a0-8506-42025d6b036a', '643386579', 'Kopf', 0), ('e845e247-68d3-4dd8-b555-7db47775d641', '643386579', 'das Auge', 0), ('29210618-32af-4704-a7bd-f7fbb1139c0a', '643386579', 'der Schmerz', 0), ('a0343ede-fba5-4a30-bbbd-78b26528f816', '643386579', 'Deshalb', 0), ('e4d9b07e-0c7d-499c-a977-e731d34c6aa4', '643386579', 'Verwandte', 0), ('4004714d-a9e2-4835-8ae5-60cca5e69d61', '643386579', 'wenig', 0), ('3cf1ad30-deeb-4bfa-bcbf-ce57ee4f932f', '643386579', 'aufmachen', 0), ('dc93343a-0ac8-478d-90ac-6e30043365cc', '643386579', 'zumachen', 0), ('6825e0a4-e871-4e52-9c4a-8bf1e781c7e1', '643386579', 'einschalten', 0), ('9f3a2fef-ceb3-4cc1-b19e-e1e545a2c831', '643386579', 'ausschalten', 0), ('3fa7a75c-8609-48d0-b899-1cc2b5232100', '643386579', 'verdienen', 0), ('f3a3eef7-6592-4f56-8589-161d6c0aa64c', '643386579', 'schlafen', 0), ('9bdbd55b-e24f-4780-a915-a10e4b14139e', '643386579', 'hässlich', 0), ('d0fc07e3-ee47-47b0-8d54-a56a3b357589', '643386579', 'schlecht', 0), ('85adf13a-fa8c-434c-8506-1650effc703d', '643386579', 'der Neffe', 0), ('c80e433e-92e2-46cb-bb02-06a9e92cb2f9', '643386579', 'die Nichte', 0), ('c3be4ac9-2cf4-461e-a2b3-cbd8310afb74', '643386579', 'liegt', 0), ('841adffe-e0c4-4fba-be66-2188bcfd9b36', '643386579', 'zwischen', 0), ('e39cf165-e33d-4dbd-ba81-5f7204cadf98', '643386579', 'der Onkel', 0), ('e85daa08-215c-44d2-bc53-89035c1c9fe7', '643386579', 'die Tante', 0), ('6c07e487-966d-4999-a114-cfb84bf03d05', '1075517121', 'Der Onkel', 0), ('c648d7ea-be58-471b-86f9-d591016ddf76', '1075517121', 'Die Tante', 0), ('991f238e-4491-47e5-905c-a844d8501873', '1075517121', 'Der Neffe', 0), ('debf5f4e-731b-4b22-8b3f-4cfb7f4add3a', '1075517121', 'Die Nichte', 0), ('f5d6b9cf-2c29-4355-af31-034cd72d28f1', '1075517121', 'Das Auge', 0), ('0cc8418c-4cc9-4793-a54e-7d2db2fe0d8e', '1075517121', 'der Schmerz', 0), ('c28b1578-79f6-4ff3-b183-cacece048c05', '1075517121', 'Deshalb', 0), ('ad438d20-cd19-4906-b821-199cd228372b', '1075517121', 'Verwandte', 0), ('9c8983d5-4747-4d7c-b6a2-b2af454b65d4', '1075517121', 'wenig', 0), ('fabdcf7f-5a08-4989-83a3-0e6287bc5b0a', '1075517121', 'aufmachen', 0), ('f3eafc4c-645b-423b-8034-436d14def0fb', '1075517121', 'zumachen', 0), ('8818c5ad-ead0-41c5-9411-cd952c629ce2', '1075517121', 'einschalten', 0), ('5a437adb-c250-4c09-a3ca-395ee1111825', '1075517121', 'ausschalten', 0), ('346aa3ef-3fc7-4a50-9e7e-21b9eec771db', '1075517121', 'verdienen', 0), ('c120cfc9-880a-4403-906c-4ef30a3c73bc', '1075517121', 'schlafen', 0), ('9da4e174-b903-486f-8dac-3a953c68c9d2', '1075517121', 'hässlich', 0), ('c45ac0c1-8f64-4516-b6f0-60487f1b4228', '1075517121', 'schlecht', 0), ('58616a58-c768-4314-97b3-03456611232d', '643386579', 'fühlen', 0), ('e4dbd19e-49cb-4df6-aea2-fc6443adf6df', '1075517121', 'Fühlen', 0), ('cd7d9437-e2f6-4945-bd5b-7d05743abf8b', '1075517121', 'Sauer', 0), ('a499b5b5-017e-47fd-9fca-bb8506a3a821', '1075517121', 'Das Licht', 0), ('c35bb682-308a-47b1-bacd-7f6317abc374', '1075517121', 'Die Lichter', 0), ('a3d0a3db-a693-45f1-92cd-cfc75459a4a2', '643386579', 'das Licht', 0), ('de1b815d-b623-4c56-aace-758ef5743693', '643386579', 'über', 0), ('afe3008e-4667-41c9-83e9-0229fad5690d', '643386579', 'die Leute', 0), ('e3951e1f-8781-4eb9-81c3-2786bcbf4a4e', '643386579', 'das Heft', 0), ('1e6a096f-a209-433f-8f2b-f83ceb2391b5', '643386579', 'der Boden', 0), ('e4dcc768-d144-4c06-a204-eaa430c60a35', '643386579', 'schnell', 0), ('2b035311-613c-4575-8e2b-ecfb69b6a1c1', '643386579', 'der Schüssel', 0), ('c8398383-302d-47d1-a51d-3eaa86eae32b', '643386579', 'bedeuten', 0), ('b4513e79-82c1-42ff-ba01-34810bb3e961', '643386579', 'der Bleistift', 0), ('5a7c6e72-c04e-4810-9dde-9c102f537408', '643386579', 'der Radiergummi', 0), ('6db58228-43a7-4d73-8bf8-ad03af73ee14', '643386579', 'brauchen', 0), ('b8ad341a-2fc0-4c6a-a1ce-6fba102dd698', '643386579', 'buchstabieren', 0), ('dff429b1-171c-46b1-80b7-9e7c4ed49da0', '1075517121', 'wohnung', 0), ('4e9197c3-dbbc-4e9f-86e7-0261a088e2e0', '1075517121', 'Wohnzimmer', 0), ('be7709ea-951b-4310-a9c6-f043d8d71e3a', '1075517121', 'Schlafzimmer', 0), ('03a2ff2e-13d0-4e1a-99e2-c80e227e4ebf', '7134602257', 'Mutter', 0), ('2fd17fc0-fa26-4960-8b4a-4a694e9fe903', '643386579', 'überall', 0)]\n"
     ]
    }
   ],
   "source": [
    "cursor1.execute(\"SELECT * FROM german_items\")\n",
    "german_items = cursor1.fetchall()\n",
    "print(german_items)"
   ]
  },
  {
   "cell_type": "code",
   "execution_count": 38,
   "metadata": {},
   "outputs": [
    {
     "name": "stdout",
     "output_type": "stream",
     "text": [
      "[('c9ece550-c31e-46db-a810-b14759d9b4a7', '73b85e75-cd89-4337-a56e-d0ffa9319b1f', 'aplazado'), ('8475407c-1fc8-43a7-bc5d-7d0c29f17e24', '6833efaf-9a95-433c-9725-ce2a4b9a81b3', 'quizás'), ('e2bd69dd-99d3-47a8-92f7-a595d5d5c599', '923013a3-6fe0-42a6-8feb-8eb322df72e5', 'listo'), ('9ac79830-2e38-4ba4-8749-dd9c06d4f8cd', '2b78e681-beb2-43b2-a851-f1c8b6a948fa', 'llamar'), ('746ecb52-8f94-4897-9362-1baec7caefce', '3bc176a0-144e-4b21-814b-978b6321525b', 'lo principal'), ('ede5874d-8d67-4b17-8cf7-e401fa65ee39', '23cada82-7180-4bea-9c90-7704582424ab', 'cosa'), ('13729b57-c1e9-4f9b-8a1c-f8de8c1527a7', '2ac566e3-3894-4924-9fe0-19ee3421cf4a', 'sitio'), ('e862bceb-02a9-4e1c-bd6a-82bd043b8d08', '04f23bf2-3054-46a0-8506-42025d6b036a', 'cabeza'), ('88a57091-b69e-4ba6-9089-41cacca36a97', 'e845e247-68d3-4dd8-b555-7db47775d641', 'ojo'), ('9566f0d3-89ed-46ff-975f-ac8df33d002a', '29210618-32af-4704-a7bd-f7fbb1139c0a', 'dolor'), ('8cf1a3b6-6500-4e15-b452-ffa41157c0f7', 'a0343ede-fba5-4a30-bbbd-78b26528f816', 'por tanto'), ('226fc314-01a2-4806-9450-bb5fac13b03f', 'e4d9b07e-0c7d-499c-a977-e731d34c6aa4', 'pariente'), ('26b2b26e-78b3-4a83-a378-ae80c6a094f0', '4004714d-a9e2-4835-8ae5-60cca5e69d61', 'poco'), ('1496bd91-52a0-4acf-8e40-c2daf3194324', '3cf1ad30-deeb-4bfa-bcbf-ce57ee4f932f', 'abrir'), ('2bee17fb-479e-4d10-9ae1-6d6988e26ecf', 'dc93343a-0ac8-478d-90ac-6e30043365cc', 'cerrar'), ('9bada67e-1b19-41b8-a450-78ece7c44cb3', '6825e0a4-e871-4e52-9c4a-8bf1e781c7e1', 'encender'), ('9d5772cd-9c03-4120-8fc8-a0d0bcc9342d', '9f3a2fef-ceb3-4cc1-b19e-e1e545a2c831', 'apagar'), ('bfac4080-0892-449c-9a27-4a04a614a5a3', '3fa7a75c-8609-48d0-b899-1cc2b5232100', 'ganar'), ('be174a7f-2a01-44ac-880a-074897a64b24', 'f3a3eef7-6592-4f56-8589-161d6c0aa64c', 'dormir'), ('8a29e55e-20fa-4c98-9f33-9eb010341b3f', '9bdbd55b-e24f-4780-a915-a10e4b14139e', 'feo'), ('802dbaf7-7fa3-4b2b-9b8c-0dd620fdcba0', 'd0fc07e3-ee47-47b0-8d54-a56a3b357589', 'malo'), ('a58eff98-3afd-4150-a3b4-ed24e0241006', '85adf13a-fa8c-434c-8506-1650effc703d', 'sobrino'), ('624f3c6c-85fd-4719-80cf-31028811187a', 'c80e433e-92e2-46cb-bb02-06a9e92cb2f9', 'sobrina'), ('63833405-6cfe-4f44-91f1-d2f54226bcfd', 'c3be4ac9-2cf4-461e-a2b3-cbd8310afb74', 'está sobre'), ('bc353329-a73b-41d8-97f0-0f09f3a4f328', '841adffe-e0c4-4fba-be66-2188bcfd9b36', 'entre'), ('ecf25396-6583-4a9d-9c16-44f70b94ece1', 'e39cf165-e33d-4dbd-ba81-5f7204cadf98', 'tío'), ('512025cb-105d-48d4-a8fc-b4f4159f0ec6', 'e85daa08-215c-44d2-bc53-89035c1c9fe7', 'tía'), ('546ea316-1107-401f-8402-f9196332fe13', '6c07e487-966d-4999-a114-cfb84bf03d05', 'tio'), ('b3004a7c-02ea-4f83-90c5-13dc2ca4eadb', 'c648d7ea-be58-471b-86f9-d591016ddf76', 'tia'), ('77314d52-b0fe-47bb-9f40-f486eeed0da3', '991f238e-4491-47e5-905c-a844d8501873', 'sobrino'), ('42012e75-fc1a-46e4-93f8-3af623e91683', 'debf5f4e-731b-4b22-8b3f-4cfb7f4add3a', 'sobrina'), ('6a5add25-c071-407c-ac22-885f24fbec29', 'f5d6b9cf-2c29-4355-af31-034cd72d28f1', 'ojo'), ('ab58fd6e-d039-4576-8ffc-2a0d40b70a88', '0cc8418c-4cc9-4793-a54e-7d2db2fe0d8e', 'dolor'), ('ef6b9226-1c9b-4f39-be6d-4f126bd4d838', 'c28b1578-79f6-4ff3-b183-cacece048c05', 'por tanto'), ('e8a85e07-3225-4e8a-8cd0-20f4a7b3bb19', 'ad438d20-cd19-4906-b821-199cd228372b', 'pariente'), ('29a09dd6-9b58-4236-9b25-7242e4d38f39', '9c8983d5-4747-4d7c-b6a2-b2af454b65d4', 'poco'), ('3c897cdf-bd8c-4437-9756-4fe41bb0afb5', 'fabdcf7f-5a08-4989-83a3-0e6287bc5b0a', 'abrir'), ('29ee01db-92e4-4951-b8b1-091285acbb35', 'f3eafc4c-645b-423b-8034-436d14def0fb', 'cerrar'), ('af070232-c31c-4539-a0a8-363e00ba3695', '8818c5ad-ead0-41c5-9411-cd952c629ce2', 'encender'), ('479e63ad-9d3d-4abf-8da2-e26f5f0316b3', '5a437adb-c250-4c09-a3ca-395ee1111825', 'apagar'), ('cecb685e-b1a7-4dc3-a7c2-5423994286cb', '346aa3ef-3fc7-4a50-9e7e-21b9eec771db', 'ganar'), ('59c85b4b-28cf-4da7-9481-4eaaecd714c2', 'c120cfc9-880a-4403-906c-4ef30a3c73bc', 'dormir'), ('f1262f11-a4cf-4da8-8c22-409856ec8263', '9da4e174-b903-486f-8dac-3a953c68c9d2', 'feo'), ('febe4939-e63e-47a6-aab2-f3808a77bc5d', 'c45ac0c1-8f64-4516-b6f0-60487f1b4228', 'malo'), ('9faa6bcc-bd6a-4a88-93ae-54e7e8bd9fc2', '58616a58-c768-4314-97b3-03456611232d', 'feel'), ('35151e0f-0896-4009-a7c9-f234eb417aa6', 'e4dbd19e-49cb-4df6-aea2-fc6443adf6df', 'feel'), ('2cd03469-6ee5-4847-bf63-45c73736937a', 'cd7d9437-e2f6-4945-bd5b-7d05743abf8b', 'agrio'), ('37ab823f-6720-4086-b2b0-8e22bdf46561', 'a499b5b5-017e-47fd-9fca-bb8506a3a821', 'luz'), ('b10cc279-3ad6-4c60-b38f-dac15be9335e', 'c35bb682-308a-47b1-bacd-7f6317abc374', 'luces'), ('0fcb9ea8-c6a6-4795-90fb-252b4bc46324', 'a3d0a3db-a693-45f1-92cd-cfc75459a4a2', 'luz'), ('ebf3e381-5153-4e68-b48c-6a298674fdd7', 'de1b815d-b623-4c56-aace-758ef5743693', 'about'), ('d99ad299-2964-4c8d-886b-995af336d62e', 'afe3008e-4667-41c9-83e9-0229fad5690d', 'gente'), ('ee558b95-f9b2-452f-8a2b-3deb358ecbe3', 'e3951e1f-8781-4eb9-81c3-2786bcbf4a4e', 'libreta'), ('14f14412-c6fa-4731-9221-1c50f4acce26', '1e6a096f-a209-433f-8f2b-f83ceb2391b5', 'floor'), ('153ddb39-fb18-4cb8-b7bd-9a2d9c788653', 'e4dcc768-d144-4c06-a204-eaa430c60a35', 'fast'), ('a65e7b05-49c8-4a50-8282-7157f55a16c3', '2b035311-613c-4575-8e2b-ecfb69b6a1c1', 'key'), ('d6ff6ace-b8e9-4a7a-af1c-c5dd12954552', 'c8398383-302d-47d1-a51d-3eaa86eae32b', 'means'), ('22df79c9-999c-44f1-a636-54af72e624e1', 'b4513e79-82c1-42ff-ba01-34810bb3e961', 'pencil'), ('53eacada-6466-4ade-b552-40c400d7e8ae', '5a7c6e72-c04e-4810-9dde-9c102f537408', 'goma'), ('11484ef5-8240-4bdf-8473-f3c9dbc3ee36', '6db58228-43a7-4d73-8bf8-ad03af73ee14', 'need'), ('57266b00-f2c8-4b2d-a48d-2946e4d89b42', 'b8ad341a-2fc0-4c6a-a1ce-6fba102dd698', 'spelling'), ('18472dae-ad54-4070-a2bd-9f7ff5c5d926', 'dff429b1-171c-46b1-80b7-9e7c4ed49da0', 'flat'), ('deaf0ac3-f6d4-43ee-a3c2-825f2388ad7d', '4e9197c3-dbbc-4e9f-86e7-0261a088e2e0', 'sala'), ('6110a043-37e3-4542-9916-8e69d302f6ae', 'be7709ea-951b-4310-a9c6-f043d8d71e3a', 'cuarto'), ('9dc6e7b6-f933-4806-b780-e1800ffc8407', '03a2ff2e-13d0-4e1a-99e2-c80e227e4ebf', 'Mother'), ('bdb1309c-547a-4b7e-8752-1724477478de', '2fd17fc0-fa26-4960-8b4a-4a694e9fe903', 'everywhere')]\n"
     ]
    }
   ],
   "source": [
    "cursor1.execute(\"SELECT * FROM translations\")\n",
    "german_items = cursor1.fetchall()\n",
    "print(german_items)"
   ]
  },
  {
   "cell_type": "code",
   "execution_count": 40,
   "metadata": {},
   "outputs": [],
   "source": [
    "conn1.commit()\n",
    "conn1.close()\n",
    "\n",
    "conn.close()\n"
   ]
  },
  {
   "cell_type": "code",
   "execution_count": null,
   "metadata": {},
   "outputs": [],
   "source": []
  }
 ],
 "metadata": {
  "kernelspec": {
   "display_name": "env_torch",
   "language": "python",
   "name": "python3"
  },
  "language_info": {
   "codemirror_mode": {
    "name": "ipython",
    "version": 3
   },
   "file_extension": ".py",
   "mimetype": "text/x-python",
   "name": "python",
   "nbconvert_exporter": "python",
   "pygments_lexer": "ipython3",
   "version": "3.10.12"
  }
 },
 "nbformat": 4,
 "nbformat_minor": 2
}
